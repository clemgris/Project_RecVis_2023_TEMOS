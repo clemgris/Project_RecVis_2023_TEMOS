{
 "cells": [
  {
   "attachments": {},
   "cell_type": "markdown",
   "metadata": {},
   "source": [
    "# TEMOS"
   ]
  },
  {
   "cell_type": "code",
   "execution_count": 11,
   "metadata": {},
   "outputs": [
    {
     "name": "stdout",
     "output_type": "stream",
     "text": [
      "[12/25/22 11:07:40] INFO     Interaction script. The result will interact.py:52\n",
      "                             be saved there: kick                              \n",
      "                    INFO     The sentence is: A person kicks     interact.py:53\n",
      "                             with the right foot.                              \n",
      "[12/25/22 11:07:51] INFO     Global seed set to 1234                 seed.py:54\n",
      "                    INFO     Loading model                       interact.py:71\n",
      "[12/25/22 11:07:54] INFO     Model 'temos' loaded                interact.py:90\n"
     ]
    },
    {
     "name": "stderr",
     "output_type": "stream",
     "text": [
      "Error executing job with overrides: ['folder=pretrained_models/kit-mmm-xyz/3l49g7hv/', 'saving=kick', 'text=A person kicks with the right foot.', 'length=60']\n",
      "\n",
      "Traceback (most recent call last):\n",
      "  File \"c:\\Users\\cgris\\OneDrive\\Documents\\ENPC\\4A 2022-2023\\S1\\OBJECT RECOGNITION\\Project\\TEMOS\\interact.py\", line 149, in <module>\n",
      "    _interact()\n",
      "  File \"c:\\Users\\cgris\\Anaconda3\\envs\\ISIR\\lib\\site-packages\\hydra\\main.py\", line 90, in decorated_main\n",
      "    _run_hydra(\n",
      "  File \"c:\\Users\\cgris\\Anaconda3\\envs\\ISIR\\lib\\site-packages\\hydra\\_internal\\utils.py\", line 394, in _run_hydra\n",
      "    _run_app(\n",
      "  File \"c:\\Users\\cgris\\Anaconda3\\envs\\ISIR\\lib\\site-packages\\hydra\\_internal\\utils.py\", line 457, in _run_app\n",
      "    run_and_report(\n",
      "  File \"c:\\Users\\cgris\\Anaconda3\\envs\\ISIR\\lib\\site-packages\\hydra\\_internal\\utils.py\", line 222, in run_and_report\n",
      "    raise ex\n",
      "  File \"c:\\Users\\cgris\\Anaconda3\\envs\\ISIR\\lib\\site-packages\\hydra\\_internal\\utils.py\", line 219, in run_and_report\n",
      "    return func()\n",
      "  File \"c:\\Users\\cgris\\Anaconda3\\envs\\ISIR\\lib\\site-packages\\hydra\\_internal\\utils.py\", line 458, in <lambda>\n",
      "    lambda: hydra.run(\n",
      "  File \"c:\\Users\\cgris\\Anaconda3\\envs\\ISIR\\lib\\site-packages\\hydra\\_internal\\hydra.py\", line 132, in run\n",
      "    _ = ret.return_value\n",
      "  File \"c:\\Users\\cgris\\Anaconda3\\envs\\ISIR\\lib\\site-packages\\hydra\\core\\utils.py\", line 260, in return_value\n",
      "    raise self._return_value\n",
      "  File \"c:\\Users\\cgris\\Anaconda3\\envs\\ISIR\\lib\\site-packages\\hydra\\core\\utils.py\", line 186, in run_job\n",
      "    ret.return_value = task_function(task_cfg)\n",
      "  File \"c:\\Users\\cgris\\OneDrive\\Documents\\ENPC\\4A 2022-2023\\S1\\OBJECT RECOGNITION\\Project\\TEMOS\\interact.py\", line 14, in _interact\n",
      "    return interact(cfg)\n",
      "  File \"c:\\Users\\cgris\\OneDrive\\Documents\\ENPC\\4A 2022-2023\\S1\\OBJECT RECOGNITION\\Project\\TEMOS\\interact.py\", line 92, in interact\n",
      "    load_checkpoint(model, last_ckpt_path, eval_mode=True)\n",
      "  File \"c:\\Users\\cgris\\OneDrive\\Documents\\ENPC\\4A 2022-2023\\S1\\OBJECT RECOGNITION\\Project\\TEMOS\\interact.py\", line 32, in load_checkpoint\n",
      "    model.load_state_dict(torch.load(last_ckpt_path)[\"state_dict\"])\n",
      "  File \"c:\\Users\\cgris\\Anaconda3\\envs\\ISIR\\lib\\site-packages\\torch\\serialization.py\", line 607, in load\n",
      "    return _load(opened_zipfile, map_location, pickle_module, **pickle_load_args)\n",
      "  File \"c:\\Users\\cgris\\Anaconda3\\envs\\ISIR\\lib\\site-packages\\torch\\serialization.py\", line 882, in _load\n",
      "    result = unpickler.load()\n",
      "  File \"c:\\Users\\cgris\\Anaconda3\\envs\\ISIR\\lib\\pickle.py\", line 1213, in load\n",
      "    dispatch[key[0]](self)\n",
      "  File \"c:\\Users\\cgris\\Anaconda3\\envs\\ISIR\\lib\\pickle.py\", line 1254, in load_binpersid\n",
      "    self.append(self.persistent_load(pid))\n",
      "  File \"c:\\Users\\cgris\\Anaconda3\\envs\\ISIR\\lib\\site-packages\\torch\\serialization.py\", line 857, in persistent_load\n",
      "    load_tensor(data_type, size, key, _maybe_decode_ascii(location))\n",
      "  File \"c:\\Users\\cgris\\Anaconda3\\envs\\ISIR\\lib\\site-packages\\torch\\serialization.py\", line 846, in load_tensor\n",
      "    loaded_storages[key] = restore_location(storage, location)\n",
      "  File \"c:\\Users\\cgris\\Anaconda3\\envs\\ISIR\\lib\\site-packages\\torch\\serialization.py\", line 175, in default_restore_location\n",
      "    result = fn(storage, location)\n",
      "  File \"c:\\Users\\cgris\\Anaconda3\\envs\\ISIR\\lib\\site-packages\\torch\\serialization.py\", line 151, in _cuda_deserialize\n",
      "    device = validate_cuda_device(location)\n",
      "  File \"c:\\Users\\cgris\\Anaconda3\\envs\\ISIR\\lib\\site-packages\\torch\\serialization.py\", line 135, in validate_cuda_device\n",
      "    raise RuntimeError('Attempting to deserialize object on a CUDA '\n",
      "RuntimeError: Attempting to deserialize object on a CUDA device but torch.cuda.is_available() is False. If you are running on a CPU-only machine, please use torch.load with map_location=torch.device('cpu') to map your storages to the CPU.\n"
     ]
    }
   ],
   "source": [
    "!python interact.py folder=pretrained_models/kit-mmm-xyz/3l49g7hv/ saving=kick text=\"A person kicks with the right foot.\" length=60"
   ]
  },
  {
   "cell_type": "code",
   "execution_count": 10,
   "metadata": {},
   "outputs": [
    {
     "name": "stdout",
     "output_type": "stream",
     "text": [
      "[12/25/22 10:51:35] INFO     Sample script. The outputs will be    sample.py:59\n",
      "                             stored in:                                        \n",
      "                    INFO     c:\\Users\\cgris\\OneDrive\\Documents\\ENP sample.py:77\n",
      "                             C\\4A 2022-2023\\S1\\OBJECT                          \n",
      "                             RECOGNITION\\Project\\TEMOS\\pretrained_             \n",
      "                             models\\kit-mmm-xyz\\3l49g7hv\\samples\\g             \n",
      "                             test                                              \n",
      "[12/25/22 10:51:45] INFO     Global seed set to 1234                 seed.py:54\n",
      "[12/25/22 10:51:46] INFO     Loading data module                   sample.py:85\n",
      "                    INFO     Data module 'kit-mmm-xyz' loaded      sample.py:87\n",
      "                    INFO     Loading model                         sample.py:89\n",
      "[12/25/22 10:51:50] INFO     Model 'temos' loaded                 sample.py:102\n"
     ]
    },
    {
     "name": "stderr",
     "output_type": "stream",
     "text": [
      "Error executing job with overrides: ['folder=pretrained_models/kit-mmm-xyz/3l49g7hv/']\n",
      "\n",
      "Traceback (most recent call last):\n",
      "  File \"c:\\Users\\cgris\\OneDrive\\Documents\\ENPC\\4A 2022-2023\\S1\\OBJECT RECOGNITION\\Project\\TEMOS\\sample.py\", line 161, in <module>\n",
      "    _sample()\n",
      "  File \"c:\\Users\\cgris\\Anaconda3\\envs\\ISIR\\lib\\site-packages\\hydra\\main.py\", line 90, in decorated_main\n",
      "    _run_hydra(\n",
      "  File \"c:\\Users\\cgris\\Anaconda3\\envs\\ISIR\\lib\\site-packages\\hydra\\_internal\\utils.py\", line 394, in _run_hydra\n",
      "    _run_app(\n",
      "  File \"c:\\Users\\cgris\\Anaconda3\\envs\\ISIR\\lib\\site-packages\\hydra\\_internal\\utils.py\", line 457, in _run_app\n",
      "    run_and_report(\n",
      "  File \"c:\\Users\\cgris\\Anaconda3\\envs\\ISIR\\lib\\site-packages\\hydra\\_internal\\utils.py\", line 222, in run_and_report\n",
      "    raise ex\n",
      "  File \"c:\\Users\\cgris\\Anaconda3\\envs\\ISIR\\lib\\site-packages\\hydra\\_internal\\utils.py\", line 219, in run_and_report\n",
      "    return func()\n",
      "  File \"c:\\Users\\cgris\\Anaconda3\\envs\\ISIR\\lib\\site-packages\\hydra\\_internal\\utils.py\", line 458, in <lambda>\n",
      "    lambda: hydra.run(\n",
      "  File \"c:\\Users\\cgris\\Anaconda3\\envs\\ISIR\\lib\\site-packages\\hydra\\_internal\\hydra.py\", line 132, in run\n",
      "    _ = ret.return_value\n",
      "  File \"c:\\Users\\cgris\\Anaconda3\\envs\\ISIR\\lib\\site-packages\\hydra\\core\\utils.py\", line 260, in return_value\n",
      "    raise self._return_value\n",
      "  File \"c:\\Users\\cgris\\Anaconda3\\envs\\ISIR\\lib\\site-packages\\hydra\\core\\utils.py\", line 186, in run_job\n",
      "    ret.return_value = task_function(task_cfg)\n",
      "  File \"c:\\Users\\cgris\\OneDrive\\Documents\\ENPC\\4A 2022-2023\\S1\\OBJECT RECOGNITION\\Project\\TEMOS\\sample.py\", line 14, in _sample\n",
      "    return sample(cfg)\n",
      "  File \"c:\\Users\\cgris\\OneDrive\\Documents\\ENPC\\4A 2022-2023\\S1\\OBJECT RECOGNITION\\Project\\TEMOS\\sample.py\", line 104, in sample\n",
      "    load_checkpoint(model, last_ckpt_path, eval_mode=True)\n",
      "  File \"c:\\Users\\cgris\\OneDrive\\Documents\\ENPC\\4A 2022-2023\\S1\\OBJECT RECOGNITION\\Project\\TEMOS\\sample.py\", line 40, in load_checkpoint\n",
      "    model.load_state_dict(torch.load(last_ckpt_path)[\"state_dict\"])\n",
      "  File \"c:\\Users\\cgris\\Anaconda3\\envs\\ISIR\\lib\\site-packages\\torch\\serialization.py\", line 607, in load\n",
      "    return _load(opened_zipfile, map_location, pickle_module, **pickle_load_args)\n",
      "  File \"c:\\Users\\cgris\\Anaconda3\\envs\\ISIR\\lib\\site-packages\\torch\\serialization.py\", line 882, in _load\n",
      "    result = unpickler.load()\n",
      "  File \"c:\\Users\\cgris\\Anaconda3\\envs\\ISIR\\lib\\pickle.py\", line 1213, in load\n",
      "    dispatch[key[0]](self)\n",
      "  File \"c:\\Users\\cgris\\Anaconda3\\envs\\ISIR\\lib\\pickle.py\", line 1254, in load_binpersid\n",
      "    self.append(self.persistent_load(pid))\n",
      "  File \"c:\\Users\\cgris\\Anaconda3\\envs\\ISIR\\lib\\site-packages\\torch\\serialization.py\", line 857, in persistent_load\n",
      "    load_tensor(data_type, size, key, _maybe_decode_ascii(location))\n",
      "  File \"c:\\Users\\cgris\\Anaconda3\\envs\\ISIR\\lib\\site-packages\\torch\\serialization.py\", line 846, in load_tensor\n",
      "    loaded_storages[key] = restore_location(storage, location)\n",
      "  File \"c:\\Users\\cgris\\Anaconda3\\envs\\ISIR\\lib\\site-packages\\torch\\serialization.py\", line 175, in default_restore_location\n",
      "    result = fn(storage, location)\n",
      "  File \"c:\\Users\\cgris\\Anaconda3\\envs\\ISIR\\lib\\site-packages\\torch\\serialization.py\", line 151, in _cuda_deserialize\n",
      "    device = validate_cuda_device(location)\n",
      "  File \"c:\\Users\\cgris\\Anaconda3\\envs\\ISIR\\lib\\site-packages\\torch\\serialization.py\", line 135, in validate_cuda_device\n",
      "    raise RuntimeError('Attempting to deserialize object on a CUDA '\n",
      "RuntimeError: Attempting to deserialize object on a CUDA device but torch.cuda.is_available() is False. If you are running on a CPU-only machine, please use torch.load with map_location=torch.device('cpu') to map your storages to the CPU.\n"
     ]
    }
   ],
   "source": [
    "!python sample.py folder=pretrained_models/kit-mmm-xyz/3l49g7hv/"
   ]
  },
  {
   "cell_type": "code",
   "execution_count": 11,
   "metadata": {},
   "outputs": [
    {
     "name": "stdout",
     "output_type": "stream",
     "text": [
      "[12/24/22 11:44:24] INFO     Training script. The outputs will be   train.py:17\n",
      "                             stored in:                                        \n",
      "                    INFO     c:\\Users\\cgris\\OneDrive\\Documents\\ENPC train.py:18\n",
      "                             \\4A 2022-2023\\S1\\OBJECT                           \n",
      "                             RECOGNITION\\Project\\TEMOS\\outputs\\kit-            \n",
      "                             mmm-xyz\\baseline\\31v3o7ud                         \n",
      "                    INFO     Loading libraries                      train.py:21\n",
      "[12/24/22 11:44:52] INFO     Libraries loaded                       train.py:26\n",
      "                    INFO     Set the seed to 1234                   train.py:28\n",
      "                    INFO     Global seed set to 1234                 seed.py:54\n",
      "                    INFO     Loading data module                    train.py:31\n"
     ]
    },
    {
     "name": "stderr",
     "output_type": "stream",
     "text": [
      "Error executing job with overrides: []\n",
      "\n",
      "Error in call to target 'temos.data.kit.KITDataModule':\n",
      "FileNotFoundError(2, 'No such file or directory')\n",
      "full_key: data\n",
      "\n",
      "\n",
      "Set the environment variable HYDRA_FULL_ERROR=1 for a complete stack trace.\n"
     ]
    }
   ],
   "source": [
    "!python train.py"
   ]
  }
 ],
 "metadata": {
  "kernelspec": {
   "display_name": "ISIR",
   "language": "python",
   "name": "python3"
  },
  "language_info": {
   "codemirror_mode": {
    "name": "ipython",
    "version": 3
   },
   "file_extension": ".py",
   "mimetype": "text/x-python",
   "name": "python",
   "nbconvert_exporter": "python",
   "pygments_lexer": "ipython3",
   "version": "3.10.8"
  },
  "orig_nbformat": 4,
  "vscode": {
   "interpreter": {
    "hash": "146ee252e32b45fde51d1df76338710c52423cdd5ffd78c0741f2afeafb03939"
   }
  }
 },
 "nbformat": 4,
 "nbformat_minor": 2
}
